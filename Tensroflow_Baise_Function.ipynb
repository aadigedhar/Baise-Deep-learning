{
 "cells": [
  {
   "cell_type": "markdown",
   "metadata": {},
   "source": [
    "# Tensorfow Baise syntex"
   ]
  },
  {
   "cell_type": "code",
   "execution_count": 2,
   "metadata": {
    "collapsed": true
   },
   "outputs": [],
   "source": [
    "import tensorflow as tf # Import tensorflow in notebook"
   ]
  },
  {
   "cell_type": "code",
   "execution_count": 3,
   "metadata": {
    "collapsed": true
   },
   "outputs": [],
   "source": [
    "intvar = tf.constant(2) # Create a int type(numpy.int32) constant variable\n",
    "floatvar = tf.constant(2.1) # Create a float type(numpy.float32) constant variable\n",
    "stringvar = tf.constant(\"hello world\") # Create a bytes type constant variable"
   ]
  },
  {
   "cell_type": "code",
   "execution_count": 4,
   "metadata": {},
   "outputs": [
    {
     "name": "stdout",
     "output_type": "stream",
     "text": [
      "1.2.1\n"
     ]
    }
   ],
   "source": [
    "print(tf.__version__) # check version of tensorflow"
   ]
  },
  {
   "cell_type": "code",
   "execution_count": 5,
   "metadata": {
    "collapsed": true
   },
   "outputs": [],
   "source": [
    "# method 1st to run the tensorflow Session() to print output\n",
    "with tf.Session() as sess:\n",
    "    res = sess.run(stringvar)\n",
    "\n",
    "#method 2nd \n",
    "sess = tf.Session()\n",
    "result = sess.run(intvar)"
   ]
  },
  {
   "cell_type": "markdown",
   "metadata": {},
   "source": [
    "# Matrix Baise"
   ]
  },
  {
   "cell_type": "code",
   "execution_count": 6,
   "metadata": {},
   "outputs": [
    {
     "name": "stdout",
     "output_type": "stream",
     "text": [
      "[[10 10 10 10]\n",
      " [10 10 10 10]\n",
      " [10 10 10 10]\n",
      " [10 10 10 10]]\n",
      "----------\n",
      "[[ 0.  0.  0.  0.]\n",
      " [ 0.  0.  0.  0.]\n",
      " [ 0.  0.  0.  0.]\n",
      " [ 0.  0.  0.  0.]]\n",
      "----------\n",
      "[[ 1.  1.  1.  1.]\n",
      " [ 1.  1.  1.  1.]\n",
      " [ 1.  1.  1.  1.]\n",
      " [ 1.  1.  1.  1.]]\n",
      "----------\n",
      "[[ 2.6778512  -0.44950441  0.68417555  1.26591134]\n",
      " [ 1.38298738  0.91143453 -0.87885958  0.58612567]\n",
      " [-1.01340556 -1.32137692 -0.13778155  0.55875647]\n",
      " [-0.51854008  0.90628374 -0.73594421  1.8770721 ]]\n",
      "----------\n",
      "[[ 0.72965527  0.63948619  0.72459447  0.52562475]\n",
      " [ 0.23425448  0.55610836  0.54483056  0.92356539]\n",
      " [ 0.69068801  0.25771725  0.44675958  0.79752922]\n",
      " [ 0.13443434  0.32279444  0.2893002   0.80869389]]\n",
      "----------\n"
     ]
    }
   ],
   "source": [
    "# Different types of matrix in  tensorflow\n",
    "\n",
    "fill_mat = tf.fill((4,4),10)                              # IN this matrix all values 10\n",
    "\n",
    "zeros = tf.zeros((4,4))                                   # In this matrix all values 0\n",
    "\n",
    "ones = tf.ones((4,4))                                     # In this matrix all values 0\n",
    "\n",
    "randn = tf.random_normal((4,4),mean = 0, stddev = 1.0)    # In this random value matrix\n",
    "\n",
    "randu = tf.random_uniform((4,4),minval =0, maxval = 1)    # In this matrix all value present in 0 to 1\n",
    "\n",
    "all_matrix = [fill_mat,zeros,ones,randn,randu]            # print all matrix in one line so we create a list\n",
    "\n",
    "sess = tf.InteractiveSession()                            # Instant use or upper method we use these method also \n",
    "                                                          # after tf.InteractiveSession() we do not need to again call the tf.Session() method/tf.InteractiveSession() \n",
    "#print(sess.run(all_matrix))                              # print all matrix \n",
    "for mat in all_matrix:                                \n",
    "    print(mat.eval())                                       # Instant use or run method we use also eval method\n",
    "    print(\"----------\")\n",
    "    \n"
   ]
  },
  {
   "cell_type": "code",
   "execution_count": 7,
   "metadata": {},
   "outputs": [
    {
     "name": "stdout",
     "output_type": "stream",
     "text": [
      "<bound method Tensor.get_shape of <tf.Tensor 'Fill:0' shape=(4, 4) dtype=int32>>\n"
     ]
    },
    {
     "data": {
      "text/plain": [
       "array([[ 0.,  0.,  0.,  0.],\n",
       "       [ 0.,  0.,  0.,  0.],\n",
       "       [ 0.,  0.,  0.,  0.],\n",
       "       [ 0.,  0.,  0.,  0.]], dtype=float32)"
      ]
     },
     "execution_count": 7,
     "metadata": {},
     "output_type": "execute_result"
    }
   ],
   "source": [
    "print(fill_mat.get_shape)        # To check matrix shape\n",
    "\n",
    "result = tf.matmul(zeros,ones)   # matiply t o matrix but float type or int matrix not matiply togather\n",
    "sess.run(result)"
   ]
  },
  {
   "cell_type": "markdown",
   "metadata": {
    "collapsed": true
   },
   "source": [
    "# TF Graphs"
   ]
  },
  {
   "cell_type": "code",
   "execution_count": 8,
   "metadata": {
    "collapsed": true
   },
   "outputs": [],
   "source": [
    "g = tf.get_default_graph()"
   ]
  },
  {
   "cell_type": "code",
   "execution_count": 9,
   "metadata": {},
   "outputs": [
    {
     "name": "stdout",
     "output_type": "stream",
     "text": [
      "<tensorflow.python.framework.ops.Graph object at 0x7f359fea41d0>\n"
     ]
    }
   ],
   "source": [
    "print(g)"
   ]
  },
  {
   "cell_type": "code",
   "execution_count": 10,
   "metadata": {
    "collapsed": true
   },
   "outputs": [],
   "source": [
    "g1 = tf.Graph()"
   ]
  },
  {
   "cell_type": "code",
   "execution_count": 11,
   "metadata": {},
   "outputs": [
    {
     "name": "stdout",
     "output_type": "stream",
     "text": [
      "<tensorflow.python.framework.ops.Graph object at 0x7f359fe54240>\n"
     ]
    }
   ],
   "source": [
    "print(g1)"
   ]
  },
  {
   "cell_type": "markdown",
   "metadata": {},
   "source": [
    "#  placeholder and variable Initializer\n"
   ]
  },
  {
   "cell_type": "code",
   "execution_count": 12,
   "metadata": {
    "collapsed": true
   },
   "outputs": [],
   "source": [
    "mat = tf.random_uniform((4,4),0,1) # Create matrix"
   ]
  },
  {
   "cell_type": "code",
   "execution_count": 13,
   "metadata": {
    "collapsed": true
   },
   "outputs": [],
   "source": [
    "var = tf.Variable(initial_value = 4) # Create variable and initialize vlue is 4"
   ]
  },
  {
   "cell_type": "code",
   "execution_count": 14,
   "metadata": {},
   "outputs": [
    {
     "name": "stdout",
     "output_type": "stream",
     "text": [
      "<tf.Variable 'Variable:0' shape=() dtype=int32_ref>\n"
     ]
    }
   ],
   "source": [
    "print(var) "
   ]
  },
  {
   "cell_type": "code",
   "execution_count": 24,
   "metadata": {
    "collapsed": true
   },
   "outputs": [],
   "source": [
    "#sess.run(var) # "
   ]
  },
  {
   "cell_type": "markdown",
   "metadata": {},
   "source": [
    "# Error\n",
    "sess.run() show the becouse tensorflow need to initializer function that initialize the varible.\n",
    "So that below Function initialize the variable value"
   ]
  },
  {
   "cell_type": "code",
   "execution_count": null,
   "metadata": {
    "collapsed": true
   },
   "outputs": [],
   "source": [
    "init = tf.global_variables_initializer() # Create initializer"
   ]
  },
  {
   "cell_type": "code",
   "execution_count": 18,
   "metadata": {
    "collapsed": true
   },
   "outputs": [],
   "source": [
    "sess.run(init) # run initializer (init)"
   ]
  },
  {
   "cell_type": "code",
   "execution_count": 19,
   "metadata": {},
   "outputs": [
    {
     "data": {
      "text/plain": [
       "4"
      ]
     },
     "execution_count": 19,
     "metadata": {},
     "output_type": "execute_result"
    }
   ],
   "source": [
    "sess.run(var) # than again run the var session this time it's the output"
   ]
  },
  {
   "cell_type": "markdown",
   "metadata": {},
   "source": [
    "\n",
    "we created variable and initialize after some time in program, it's called placeholder. In placeholder we give only data type and shape or name are optional.\n",
    "In this below line we create placeholder and initialize the value after-"
   ]
  },
  {
   "cell_type": "code",
   "execution_count": 58,
   "metadata": {
    "collapsed": true
   },
   "outputs": [],
   "source": [
    "x = tf.placeholder(tf.int32,shape = None, name = \"x\")"
   ]
  },
  {
   "cell_type": "code",
   "execution_count": 59,
   "metadata": {},
   "outputs": [
    {
     "name": "stdout",
     "output_type": "stream",
     "text": [
      "Tensor(\"x_5:0\", dtype=int32)\n"
     ]
    }
   ],
   "source": [
    "print(x)"
   ]
  },
  {
   "cell_type": "code",
   "execution_count": 60,
   "metadata": {},
   "outputs": [
    {
     "name": "stdout",
     "output_type": "stream",
     "text": [
      "4\n"
     ]
    }
   ],
   "source": [
    "print(sess.run(x, feed_dict = {x:4}))"
   ]
  },
  {
   "cell_type": "code",
   "execution_count": null,
   "metadata": {
    "collapsed": true
   },
   "outputs": [],
   "source": []
  },
  {
   "cell_type": "code",
   "execution_count": null,
   "metadata": {
    "collapsed": true
   },
   "outputs": [],
   "source": []
  }
 ],
 "metadata": {
  "kernelspec": {
   "display_name": "Python 3",
   "language": "python",
   "name": "python3"
  },
  "language_info": {
   "codemirror_mode": {
    "name": "ipython",
    "version": 3
   },
   "file_extension": ".py",
   "mimetype": "text/x-python",
   "name": "python",
   "nbconvert_exporter": "python",
   "pygments_lexer": "ipython3",
   "version": "3.6.4"
  }
 },
 "nbformat": 4,
 "nbformat_minor": 2
}
