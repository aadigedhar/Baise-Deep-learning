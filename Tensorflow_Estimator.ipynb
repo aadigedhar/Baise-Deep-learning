{
 "cells": [
  {
   "cell_type": "markdown",
   "metadata": {
    "colab_type": "text",
    "id": "YUpwmLblzrRG"
   },
   "source": [
    "#**TF  ESTIMATOR**"
   ]
  },
  {
   "cell_type": "markdown",
   "metadata": {
    "colab_type": "text",
    "id": "02bXCvqn3WBg"
   },
   "source": [
    "**Import python module**"
   ]
  },
  {
   "cell_type": "code",
   "execution_count": null,
   "metadata": {
    "colab": {
     "base_uri": "https://localhost:8080/",
     "height": 34
    },
    "colab_type": "code",
    "id": "ur_MshAIvBLw",
    "outputId": "03a2a2c6-d104-43ea-8c71-1585e23a4cfa"
   },
   "outputs": [],
   "source": [
    "import tensorflow as tf\n",
    "import numpy as np\n",
    "import pandas as pd\n",
    "import matplotlib.pyplot as plt\n",
    "import keras as k\n",
    "%matplotlib inline"
   ]
  },
  {
   "cell_type": "markdown",
   "metadata": {
    "colab_type": "text",
    "id": "ykPDfhxw3iCA"
   },
   "source": [
    "**How many columns**"
   ]
  },
  {
   "cell_type": "code",
   "execution_count": 0,
   "metadata": {
    "colab": {},
    "colab_type": "code",
    "id": "ZXeZv1HxvTDi"
   },
   "outputs": [],
   "source": [
    "feat_cols = [ tf.feature_column.numeric_column('x', shape = [1])]"
   ]
  },
  {
   "cell_type": "markdown",
   "metadata": {
    "colab_type": "text",
    "id": "rYOozkAb3ngd"
   },
   "source": [
    "**Model konsa use krna h**"
   ]
  },
  {
   "cell_type": "code",
   "execution_count": 3,
   "metadata": {
    "colab": {
     "base_uri": "https://localhost:8080/",
     "height": 87
    },
    "colab_type": "code",
    "id": "5Q845iVs0F9I",
    "outputId": "bb8cafd7-0805-4858-8653-c377b295b6ee"
   },
   "outputs": [
    {
     "name": "stdout",
     "output_type": "stream",
     "text": [
      "INFO:tensorflow:Using default config.\n",
      "WARNING:tensorflow:Using temporary folder as model directory: /tmp/tmpoq0792oh\n",
      "INFO:tensorflow:Using config: {'_model_dir': '/tmp/tmpoq0792oh', '_tf_random_seed': None, '_save_summary_steps': 100, '_save_checkpoints_steps': None, '_save_checkpoints_secs': 600, '_session_config': None, '_keep_checkpoint_max': 5, '_keep_checkpoint_every_n_hours': 10000, '_log_step_count_steps': 100, '_train_distribute': None, '_device_fn': None, '_service': None, '_cluster_spec': <tensorflow.python.training.server_lib.ClusterSpec object at 0x7f14f3c6e208>, '_task_type': 'worker', '_task_id': 0, '_global_id_in_cluster': 0, '_master': '', '_evaluation_master': '', '_is_chief': True, '_num_ps_replicas': 0, '_num_worker_replicas': 1}\n"
     ]
    }
   ],
   "source": [
    "estimator = tf.estimator.LinearRegressor(feature_columns = feat_cols)"
   ]
  },
  {
   "cell_type": "markdown",
   "metadata": {
    "colab_type": "text",
    "id": "QyvkE0L83vbq"
   },
   "source": [
    "**Random Data for X**"
   ]
  },
  {
   "cell_type": "code",
   "execution_count": 0,
   "metadata": {
    "colab": {},
    "colab_type": "code",
    "id": "OXB5I-BW1hWy"
   },
   "outputs": [],
   "source": [
    "x_data = np.linspace(0.0, 10.0, 100000)"
   ]
  },
  {
   "cell_type": "code",
   "execution_count": 0,
   "metadata": {
    "colab": {},
    "colab_type": "code",
    "id": "dCxU9gws1wG1"
   },
   "outputs": [],
   "source": [
    "noise = np.random.randn(len(x_data))"
   ]
  },
  {
   "cell_type": "markdown",
   "metadata": {
    "colab_type": "text",
    "id": "X0lncdzd4Aod"
   },
   "source": [
    "**Random data for Y**\n",
    " y = mx + c "
   ]
  },
  {
   "cell_type": "code",
   "execution_count": 0,
   "metadata": {
    "colab": {},
    "colab_type": "code",
    "id": "FSXfMOT73-at"
   },
   "outputs": [],
   "source": [
    "y_true = (0.5 * x_data) + 5 + noise "
   ]
  },
  {
   "cell_type": "markdown",
   "metadata": {
    "colab_type": "text",
    "id": "ROah_mGU4V46"
   },
   "source": [
    "**X Data change in DataFrame**"
   ]
  },
  {
   "cell_type": "code",
   "execution_count": 0,
   "metadata": {
    "colab": {},
    "colab_type": "code",
    "id": "vr5Ff41j2VUb"
   },
   "outputs": [],
   "source": [
    "x_df = pd.DataFrame(data = x_data, columns = ['X Data'])"
   ]
  },
  {
   "cell_type": "markdown",
   "metadata": {
    "colab_type": "text",
    "id": "b262LTNH4crL"
   },
   "source": [
    "**Y Data change in DataFrame**"
   ]
  },
  {
   "cell_type": "code",
   "execution_count": 0,
   "metadata": {
    "colab": {},
    "colab_type": "code",
    "id": "Aac7kUeo2i97"
   },
   "outputs": [],
   "source": [
    "y_df = pd.DataFrame(data = y_true, columns = ['Y'])"
   ]
  },
  {
   "cell_type": "code",
   "execution_count": 15,
   "metadata": {
    "colab": {
     "base_uri": "https://localhost:8080/",
     "height": 195
    },
    "colab_type": "code",
    "id": "MzkhsvI82tF7",
    "outputId": "82bb0690-270b-4654-b5d9-253a5b550257"
   },
   "outputs": [
    {
     "data": {
      "text/html": [
       "<div>\n",
       "<style scoped>\n",
       "    .dataframe tbody tr th:only-of-type {\n",
       "        vertical-align: middle;\n",
       "    }\n",
       "\n",
       "    .dataframe tbody tr th {\n",
       "        vertical-align: top;\n",
       "    }\n",
       "\n",
       "    .dataframe thead th {\n",
       "        text-align: right;\n",
       "    }\n",
       "</style>\n",
       "<table border=\"1\" class=\"dataframe\">\n",
       "  <thead>\n",
       "    <tr style=\"text-align: right;\">\n",
       "      <th></th>\n",
       "      <th>Y</th>\n",
       "    </tr>\n",
       "  </thead>\n",
       "  <tbody>\n",
       "    <tr>\n",
       "      <th>0</th>\n",
       "      <td>3.456894</td>\n",
       "    </tr>\n",
       "    <tr>\n",
       "      <th>1</th>\n",
       "      <td>6.540527</td>\n",
       "    </tr>\n",
       "    <tr>\n",
       "      <th>2</th>\n",
       "      <td>6.631033</td>\n",
       "    </tr>\n",
       "    <tr>\n",
       "      <th>3</th>\n",
       "      <td>5.928456</td>\n",
       "    </tr>\n",
       "    <tr>\n",
       "      <th>4</th>\n",
       "      <td>5.746650</td>\n",
       "    </tr>\n",
       "  </tbody>\n",
       "</table>\n",
       "</div>"
      ],
      "text/plain": [
       "          Y\n",
       "0  3.456894\n",
       "1  6.540527\n",
       "2  6.631033\n",
       "3  5.928456\n",
       "4  5.746650"
      ]
     },
     "execution_count": 15,
     "metadata": {
      "tags": []
     },
     "output_type": "execute_result"
    }
   ],
   "source": [
    "y_df.head()"
   ]
  },
  {
   "cell_type": "markdown",
   "metadata": {
    "colab_type": "text",
    "id": "9Pl0EtGp4nq6"
   },
   "source": [
    "**Concat X and Y Data**"
   ]
  },
  {
   "cell_type": "code",
   "execution_count": 0,
   "metadata": {
    "colab": {},
    "colab_type": "code",
    "id": "TmwtAWmd2yHv"
   },
   "outputs": [],
   "source": [
    "my_data = pd.concat([x_df, y_df], axis = 1)"
   ]
  },
  {
   "cell_type": "code",
   "execution_count": 18,
   "metadata": {
    "colab": {
     "base_uri": "https://localhost:8080/",
     "height": 195
    },
    "colab_type": "code",
    "id": "hpBVIbhW29MG",
    "outputId": "f3fbfe81-019f-44bc-9cd4-7c4a7cae5e58"
   },
   "outputs": [
    {
     "data": {
      "text/html": [
       "<div>\n",
       "<style scoped>\n",
       "    .dataframe tbody tr th:only-of-type {\n",
       "        vertical-align: middle;\n",
       "    }\n",
       "\n",
       "    .dataframe tbody tr th {\n",
       "        vertical-align: top;\n",
       "    }\n",
       "\n",
       "    .dataframe thead th {\n",
       "        text-align: right;\n",
       "    }\n",
       "</style>\n",
       "<table border=\"1\" class=\"dataframe\">\n",
       "  <thead>\n",
       "    <tr style=\"text-align: right;\">\n",
       "      <th></th>\n",
       "      <th>X Data</th>\n",
       "      <th>Y</th>\n",
       "    </tr>\n",
       "  </thead>\n",
       "  <tbody>\n",
       "    <tr>\n",
       "      <th>0</th>\n",
       "      <td>0.0000</td>\n",
       "      <td>3.456894</td>\n",
       "    </tr>\n",
       "    <tr>\n",
       "      <th>1</th>\n",
       "      <td>0.0001</td>\n",
       "      <td>6.540527</td>\n",
       "    </tr>\n",
       "    <tr>\n",
       "      <th>2</th>\n",
       "      <td>0.0002</td>\n",
       "      <td>6.631033</td>\n",
       "    </tr>\n",
       "    <tr>\n",
       "      <th>3</th>\n",
       "      <td>0.0003</td>\n",
       "      <td>5.928456</td>\n",
       "    </tr>\n",
       "    <tr>\n",
       "      <th>4</th>\n",
       "      <td>0.0004</td>\n",
       "      <td>5.746650</td>\n",
       "    </tr>\n",
       "  </tbody>\n",
       "</table>\n",
       "</div>"
      ],
      "text/plain": [
       "   X Data         Y\n",
       "0  0.0000  3.456894\n",
       "1  0.0001  6.540527\n",
       "2  0.0002  6.631033\n",
       "3  0.0003  5.928456\n",
       "4  0.0004  5.746650"
      ]
     },
     "execution_count": 18,
     "metadata": {
      "tags": []
     },
     "output_type": "execute_result"
    }
   ],
   "source": [
    "my_data.head()"
   ]
  },
  {
   "cell_type": "markdown",
   "metadata": {
    "colab_type": "text",
    "id": "P0iQXOpc5d9_"
   },
   "source": [
    "I have large data set  \n",
    "but represent only sample data"
   ]
  },
  {
   "cell_type": "code",
   "execution_count": 20,
   "metadata": {
    "colab": {
     "base_uri": "https://localhost:8080/",
     "height": 296
    },
    "colab_type": "code",
    "id": "09zf0akk3CYJ",
    "outputId": "4e74c609-c90b-44a0-cbb0-e25b3a9c373b"
   },
   "outputs": [
    {
     "data": {
      "text/plain": [
       "<matplotlib.axes._subplots.AxesSubplot at 0x7f14f28e6630>"
      ]
     },
     "execution_count": 20,
     "metadata": {
      "tags": []
     },
     "output_type": "execute_result"
    },
    {
     "data": {
      "image/png": "[encoded data removed]",
      "text/plain": [
       "<matplotlib.figure.Figure at 0x7f151091ddd8>"
      ]
     },
     "metadata": {
      "tags": []
     },
     "output_type": "display_data"
    }
   ],
   "source": [
    "my_data.sample(n = 250).plot(kind = 'scatter', x = 'X Data', y = 'Y')"
   ]
  },
  {
   "cell_type": "markdown",
   "metadata": {
    "colab_type": "text",
    "id": "Je-NrZJz59vm"
   },
   "source": [
    "**split train_test data**"
   ]
  },
  {
   "cell_type": "code",
   "execution_count": 0,
   "metadata": {
    "colab": {},
    "colab_type": "code",
    "id": "S5X_MSjA0S0U"
   },
   "outputs": [],
   "source": [
    "from sklearn.model_selection import train_test_split"
   ]
  },
  {
   "cell_type": "code",
   "execution_count": 0,
   "metadata": {
    "colab": {},
    "colab_type": "code",
    "id": "JirJEDeu0jb0"
   },
   "outputs": [],
   "source": [
    "x_train, x_eval, y_train, y_eval = train_test_split(x_data, y_true, test_size = 0.3,\n",
    "                                                   random_state = 101)"
   ]
  },
  {
   "cell_type": "code",
   "execution_count": 28,
   "metadata": {
    "colab": {
     "base_uri": "https://localhost:8080/",
     "height": 134
    },
    "colab_type": "code",
    "id": "zZqdRfGr13Of",
    "outputId": "801f6ee1-6b53-4904-9189-ba6d6d050349"
   },
   "outputs": [
    {
     "name": "stdout",
     "output_type": "stream",
     "text": [
      "Train dataset shape : \n",
      "X_data : (70000,)\n",
      "Y_data : (70000,)\n",
      "---------------\n",
      "Test dataset shape : \n",
      "X_evel : (30000,)\n",
      "Y_evel : (30000,)\n"
     ]
    }
   ],
   "source": [
    "print('Train dataset shape : ')\n",
    "print('X_data : ' +str(x_train.shape))\n",
    "print('Y_data : '+str(y_train.shape))\n",
    "print('---------------')\n",
    "print('Test dataset shape : ')\n",
    "print('X_evel : ' +str(x_evel.shape))\n",
    "print('Y_evel : '+str(y_evel.shape))"
   ]
  },
  {
   "cell_type": "code",
   "execution_count": 0,
   "metadata": {
    "colab": {},
    "colab_type": "code",
    "id": "D3z88eWS02yN"
   },
   "outputs": [],
   "source": [
    "input_func = tf.estimator.inputs.numpy_input_fn({'x':x_train}, y_train,\n",
    "                                               batch_size = 8, num_epochs = None, shuffle = True)"
   ]
  },
  {
   "cell_type": "code",
   "execution_count": 0,
   "metadata": {
    "colab": {},
    "colab_type": "code",
    "id": "Km9qQgaS8AAE"
   },
   "outputs": [],
   "source": [
    "train_input_func = tf.estimator.inputs.numpy_input_fn({'x':x_train}, y_train,\n",
    "                                               batch_size = 8, num_epochs = 1000, shuffle = False)"
   ]
  },
  {
   "cell_type": "code",
   "execution_count": 0,
   "metadata": {
    "colab": {},
    "colab_type": "code",
    "id": "0OOXUJ9q8GS-"
   },
   "outputs": [],
   "source": [
    "eval_input_func = tf.estimator.inputs.numpy_input_fn({'x':x_evel}, y_evel,\n",
    "                                               batch_size = 8, num_epochs = 1000, shuffle = False)"
   ]
  },
  {
   "cell_type": "code",
   "execution_count": 33,
   "metadata": {
    "colab": {
     "base_uri": "https://localhost:8080/",
     "height": 504
    },
    "colab_type": "code",
    "id": "vq3ymRzQ8akk",
    "outputId": "4309a85f-488e-4f72-d92c-928fd7f2a126"
   },
   "outputs": [
    {
     "name": "stdout",
     "output_type": "stream",
     "text": [
      "INFO:tensorflow:Calling model_fn.\n",
      "INFO:tensorflow:Done calling model_fn.\n",
      "INFO:tensorflow:Create CheckpointSaverHook.\n",
      "INFO:tensorflow:Graph was finalized.\n",
      "INFO:tensorflow:Running local_init_op.\n",
      "INFO:tensorflow:Done running local_init_op.\n",
      "INFO:tensorflow:Saving checkpoints for 0 into /tmp/tmpoq0792oh/model.ckpt.\n",
      "INFO:tensorflow:loss = 554.1658, step = 1\n",
      "INFO:tensorflow:global_step/sec: 750.91\n",
      "INFO:tensorflow:loss = 11.512657, step = 101 (0.138 sec)\n",
      "INFO:tensorflow:global_step/sec: 901.929\n",
      "INFO:tensorflow:loss = 43.376698, step = 201 (0.111 sec)\n",
      "INFO:tensorflow:global_step/sec: 832.619\n",
      "INFO:tensorflow:loss = 18.932388, step = 301 (0.116 sec)\n",
      "INFO:tensorflow:global_step/sec: 833.927\n",
      "INFO:tensorflow:loss = 11.684238, step = 401 (0.122 sec)\n",
      "INFO:tensorflow:global_step/sec: 901.978\n",
      "INFO:tensorflow:loss = 18.95121, step = 501 (0.111 sec)\n",
      "INFO:tensorflow:global_step/sec: 823.457\n",
      "INFO:tensorflow:loss = 7.5103235, step = 601 (0.120 sec)\n",
      "INFO:tensorflow:global_step/sec: 856.515\n",
      "INFO:tensorflow:loss = 11.501862, step = 701 (0.118 sec)\n",
      "INFO:tensorflow:global_step/sec: 848.376\n",
      "INFO:tensorflow:loss = 2.963204, step = 801 (0.119 sec)\n",
      "INFO:tensorflow:global_step/sec: 859.996\n",
      "INFO:tensorflow:loss = 4.6883783, step = 901 (0.119 sec)\n",
      "INFO:tensorflow:Saving checkpoints for 1000 into /tmp/tmpoq0792oh/model.ckpt.\n",
      "INFO:tensorflow:Loss for final step: 8.236561.\n"
     ]
    },
    {
     "data": {
      "text/plain": [
       "<tensorflow.python.estimator.canned.linear.LinearRegressor at 0x7f14f3c6e080>"
      ]
     },
     "execution_count": 33,
     "metadata": {
      "tags": []
     },
     "output_type": "execute_result"
    }
   ],
   "source": [
    "estimator.train(input_fn = input_func, steps = 1000)"
   ]
  },
  {
   "cell_type": "code",
   "execution_count": 36,
   "metadata": {
    "colab": {
     "base_uri": "https://localhost:8080/",
     "height": 373
    },
    "colab_type": "code",
    "id": "OM4TtD9L9fHO",
    "outputId": "d379a7bc-1ff9-4fe8-facc-f58461be3528"
   },
   "outputs": [
    {
     "name": "stdout",
     "output_type": "stream",
     "text": [
      "INFO:tensorflow:Calling model_fn.\n",
      "INFO:tensorflow:Done calling model_fn.\n",
      "INFO:tensorflow:Starting evaluation at 2018-08-26-16:02:20\n",
      "INFO:tensorflow:Graph was finalized.\n",
      "INFO:tensorflow:Restoring parameters from /tmp/tmpoq0792oh/model.ckpt-1000\n",
      "INFO:tensorflow:Running local_init_op.\n",
      "INFO:tensorflow:Done running local_init_op.\n",
      "INFO:tensorflow:Evaluation [100/1000]\n",
      "INFO:tensorflow:Evaluation [200/1000]\n",
      "INFO:tensorflow:Evaluation [300/1000]\n",
      "INFO:tensorflow:Evaluation [400/1000]\n",
      "INFO:tensorflow:Evaluation [500/1000]\n",
      "INFO:tensorflow:Evaluation [600/1000]\n",
      "INFO:tensorflow:Evaluation [700/1000]\n",
      "INFO:tensorflow:Evaluation [800/1000]\n",
      "INFO:tensorflow:Evaluation [900/1000]\n",
      "INFO:tensorflow:Evaluation [1000/1000]\n",
      "INFO:tensorflow:Finished evaluation at 2018-08-26-16:02:21\n",
      "INFO:tensorflow:Saving dict for global step 1000: average_loss = 1.1130158, global_step = 1000, label/mean = 7.5000863, loss = 8.904126, prediction/mean = 7.318491\n",
      "INFO:tensorflow:Saving 'checkpoint_path' summary for global step 1000: /tmp/tmpoq0792oh/model.ckpt-1000\n"
     ]
    }
   ],
   "source": [
    "train_matrics = estimator.evaluate(input_fn = train_input_func, steps = 1000)"
   ]
  },
  {
   "cell_type": "code",
   "execution_count": 43,
   "metadata": {
    "colab": {
     "base_uri": "https://localhost:8080/",
     "height": 373
    },
    "colab_type": "code",
    "id": "bstEnK52-MOk",
    "outputId": "d44af166-1ef2-4fe8-904d-93cc75a505bb"
   },
   "outputs": [
    {
     "name": "stdout",
     "output_type": "stream",
     "text": [
      "INFO:tensorflow:Calling model_fn.\n",
      "INFO:tensorflow:Done calling model_fn.\n",
      "INFO:tensorflow:Starting evaluation at 2018-08-26-16:06:54\n",
      "INFO:tensorflow:Graph was finalized.\n",
      "INFO:tensorflow:Restoring parameters from /tmp/tmpoq0792oh/model.ckpt-1000\n",
      "INFO:tensorflow:Running local_init_op.\n",
      "INFO:tensorflow:Done running local_init_op.\n",
      "INFO:tensorflow:Evaluation [100/1000]\n",
      "INFO:tensorflow:Evaluation [200/1000]\n",
      "INFO:tensorflow:Evaluation [300/1000]\n",
      "INFO:tensorflow:Evaluation [400/1000]\n",
      "INFO:tensorflow:Evaluation [500/1000]\n",
      "INFO:tensorflow:Evaluation [600/1000]\n",
      "INFO:tensorflow:Evaluation [700/1000]\n",
      "INFO:tensorflow:Evaluation [800/1000]\n",
      "INFO:tensorflow:Evaluation [900/1000]\n",
      "INFO:tensorflow:Evaluation [1000/1000]\n",
      "INFO:tensorflow:Finished evaluation at 2018-08-26-16:06:56\n",
      "INFO:tensorflow:Saving dict for global step 1000: average_loss = 1.1137418, global_step = 1000, label/mean = 7.51391, loss = 8.909934, prediction/mean = 7.332231\n",
      "INFO:tensorflow:Saving 'checkpoint_path' summary for global step 1000: /tmp/tmpoq0792oh/model.ckpt-1000\n"
     ]
    }
   ],
   "source": [
    "eval_matrics = estimator.evaluate(input_fn = eval_input_func, steps = 1000)"
   ]
  },
  {
   "cell_type": "code",
   "execution_count": 41,
   "metadata": {
    "colab": {
     "base_uri": "https://localhost:8080/",
     "height": 70
    },
    "colab_type": "code",
    "id": "7WB7wOF--wLJ",
    "outputId": "3c196cde-c56e-40b9-f7fa-46c1791bf7ab"
   },
   "outputs": [
    {
     "name": "stdout",
     "output_type": "stream",
     "text": [
      "train Data matrics\n",
      "{'average_loss': 1.1130158, 'label/mean': 7.5000863, 'loss': 8.904126, 'prediction/mean': 7.318491, 'global_step': 1000}\n"
     ]
    }
   ],
   "source": [
    "print('train Data matrics') \n",
    "print(train_matrics)"
   ]
  },
  {
   "cell_type": "code",
   "execution_count": 44,
   "metadata": {
    "colab": {
     "base_uri": "https://localhost:8080/",
     "height": 70
    },
    "colab_type": "code",
    "id": "rQP0g7Nk-9Z4",
    "outputId": "483810c3-5d3c-4f01-d5d4-7f3718b4a44f"
   },
   "outputs": [
    {
     "name": "stdout",
     "output_type": "stream",
     "text": [
      "eval matrix\n",
      "{'average_loss': 1.1137418, 'label/mean': 7.51391, 'loss': 8.909934, 'prediction/mean': 7.332231, 'global_step': 1000}\n"
     ]
    }
   ],
   "source": [
    "print('eval matrix')\n",
    "print(eval_matrics)"
   ]
  },
  {
   "cell_type": "code",
   "execution_count": 0,
   "metadata": {
    "colab": {},
    "colab_type": "code",
    "id": "u8ujCvfp_LnR"
   },
   "outputs": [],
   "source": [
    "new_data = np.linspace(0,10,10)\n",
    "input_fn_predict = tf.estimator.inputs.numpy_input_fn({'x': new_data},\n",
    "                                                     shuffle = False)"
   ]
  },
  {
   "cell_type": "code",
   "execution_count": 47,
   "metadata": {
    "colab": {
     "base_uri": "https://localhost:8080/",
     "height": 286
    },
    "colab_type": "code",
    "id": "7bis_vNb_4_8",
    "outputId": "70335ffd-d317-4662-e703-b4ea7eba7d20"
   },
   "outputs": [
    {
     "name": "stdout",
     "output_type": "stream",
     "text": [
      "INFO:tensorflow:Calling model_fn.\n",
      "INFO:tensorflow:Done calling model_fn.\n",
      "INFO:tensorflow:Graph was finalized.\n",
      "INFO:tensorflow:Restoring parameters from /tmp/tmpoq0792oh/model.ckpt-1000\n",
      "INFO:tensorflow:Running local_init_op.\n",
      "INFO:tensorflow:Done running local_init_op.\n"
     ]
    },
    {
     "data": {
      "text/plain": [
       "[{'predictions': array([4.390606], dtype=float32)},\n",
       " {'predictions': array([5.0425835], dtype=float32)},\n",
       " {'predictions': array([5.694561], dtype=float32)},\n",
       " {'predictions': array([6.346538], dtype=float32)},\n",
       " {'predictions': array([6.9985156], dtype=float32)},\n",
       " {'predictions': array([7.6504927], dtype=float32)},\n",
       " {'predictions': array([8.30247], dtype=float32)},\n",
       " {'predictions': array([8.954448], dtype=float32)},\n",
       " {'predictions': array([9.606425], dtype=float32)},\n",
       " {'predictions': array([10.258402], dtype=float32)}]"
      ]
     },
     "execution_count": 47,
     "metadata": {
      "tags": []
     },
     "output_type": "execute_result"
    }
   ],
   "source": [
    "list(estimator.predict(input_fn = input_fn_predict))"
   ]
  },
  {
   "cell_type": "code",
   "execution_count": 49,
   "metadata": {
    "colab": {
     "base_uri": "https://localhost:8080/",
     "height": 118
    },
    "colab_type": "code",
    "id": "2Pu5TRRcACFU",
    "outputId": "84fb9caa-678e-481e-b968-f587ddf4823b"
   },
   "outputs": [
    {
     "name": "stdout",
     "output_type": "stream",
     "text": [
      "INFO:tensorflow:Calling model_fn.\n",
      "INFO:tensorflow:Done calling model_fn.\n",
      "INFO:tensorflow:Graph was finalized.\n",
      "INFO:tensorflow:Restoring parameters from /tmp/tmpoq0792oh/model.ckpt-1000\n",
      "INFO:tensorflow:Running local_init_op.\n",
      "INFO:tensorflow:Done running local_init_op.\n"
     ]
    }
   ],
   "source": [
    "predictions = []\n",
    "for pred in estimator.predict(input_fn = input_fn_predict):\n",
    "    predictions.append(pred['predictions'])"
   ]
  },
  {
   "cell_type": "code",
   "execution_count": 50,
   "metadata": {
    "colab": {
     "base_uri": "https://localhost:8080/",
     "height": 185
    },
    "colab_type": "code",
    "id": "qJUTgrYlA_1o",
    "outputId": "b93defd8-5d4c-4a73-e44a-e9544186bc67"
   },
   "outputs": [
    {
     "data": {
      "text/plain": [
       "[array([4.390606], dtype=float32),\n",
       " array([5.0425835], dtype=float32),\n",
       " array([5.694561], dtype=float32),\n",
       " array([6.346538], dtype=float32),\n",
       " array([6.9985156], dtype=float32),\n",
       " array([7.6504927], dtype=float32),\n",
       " array([8.30247], dtype=float32),\n",
       " array([8.954448], dtype=float32),\n",
       " array([9.606425], dtype=float32),\n",
       " array([10.258402], dtype=float32)]"
      ]
     },
     "execution_count": 50,
     "metadata": {
      "tags": []
     },
     "output_type": "execute_result"
    }
   ],
   "source": [
    "predictions"
   ]
  },
  {
   "cell_type": "code",
   "execution_count": 56,
   "metadata": {
    "colab": {
     "base_uri": "https://localhost:8080/",
     "height": 296
    },
    "colab_type": "code",
    "id": "MUCSAMCIBKzL",
    "outputId": "11a4c7a9-1d7f-44ec-ce44-37c2686a225d"
   },
   "outputs": [
    {
     "data": {
      "text/plain": [
       "[<matplotlib.lines.Line2D at 0x7f14ecb1aba8>]"
      ]
     },
     "execution_count": 56,
     "metadata": {
      "tags": []
     },
     "output_type": "execute_result"
    },
    {
     "data": {
      "image/png": "[encoded data removed]",
      "text/plain": [
       "<matplotlib.figure.Figure at 0x7f14ecb1ad30>"
      ]
     },
     "metadata": {
      "tags": []
     },
     "output_type": "display_data"
    }
   ],
   "source": [
    "my_data.sample(n = 250).plot(kind = 'scatter', x = 'X Data', y = 'Y')\n",
    "plt.plot(new_data,predictions,'r*')"
   ]
  },
  {
   "cell_type": "code",
   "execution_count": 55,
   "metadata": {
    "colab": {
     "base_uri": "https://localhost:8080/",
     "height": 67
    },
    "colab_type": "code",
    "id": "jL9X669ABhkh",
    "outputId": "07c758b6-7398-45eb-fcb9-1ce94f6979a8"
   },
   "outputs": [
    {
     "name": "stdout",
     "output_type": "stream",
     "text": [
      "new data[ 0.          1.11111111  2.22222222  3.33333333  4.44444444  5.55555556\n",
      "  6.66666667  7.77777778  8.88888889 10.        ]\n",
      "\n"
     ]
    }
   ],
   "source": [
    "print('new data' + str(new_data) +'\\n')"
   ]
  },
  {
   "cell_type": "code",
   "execution_count": 53,
   "metadata": {
    "colab": {
     "base_uri": "https://localhost:8080/",
     "height": 54
    },
    "colab_type": "code",
    "id": "dpqElLv6B2-v",
    "outputId": "7dbc9f5a-190e-4e3a-d0ba-535db585eecc"
   },
   "outputs": [
    {
     "name": "stdout",
     "output_type": "stream",
     "text": [
      "pred [array([4.390606], dtype=float32), array([5.0425835], dtype=float32), array([5.694561], dtype=float32), array([6.346538], dtype=float32), array([6.9985156], dtype=float32), array([7.6504927], dtype=float32), array([8.30247], dtype=float32), array([8.954448], dtype=float32), array([9.606425], dtype=float32), array([10.258402], dtype=float32)]\n"
     ]
    }
   ],
   "source": [
    "print(    'pred ' + str(predictions))"
   ]
  },
  {
   "cell_type": "code",
   "execution_count": 0,
   "metadata": {
    "colab": {},
    "colab_type": "code",
    "id": "8lvFgGSaCATF"
   },
   "outputs": [],
   "source": []
  }
 ],
 "metadata": {
  "colab": {
   "name": "TFEStimator udemy.ipynb",
   "provenance": [],
   "version": "0.3.2"
  },
  "kernelspec": {
   "display_name": "Python 3",
   "language": "python",
   "name": "python3"
  },
  "language_info": {
   "codemirror_mode": {
    "name": "ipython",
    "version": 3
   },
   "file_extension": ".py",
   "mimetype": "text/x-python",
   "name": "python",
   "nbconvert_exporter": "python",
   "pygments_lexer": "ipython3",
   "version": "3.6.4"
  }
 },
 "nbformat": 4,
 "nbformat_minor": 1
}
